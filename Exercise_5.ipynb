{
  "nbformat": 4,
  "nbformat_minor": 0,
  "metadata": {
    "colab": {
      "provenance": [],
      "authorship_tag": "ABX9TyNsTIBpPx8nTBJqV+SBZoe0",
      "include_colab_link": true
    },
    "kernelspec": {
      "name": "python3",
      "display_name": "Python 3"
    },
    "language_info": {
      "name": "python"
    }
  },
  "cells": [
    {
      "cell_type": "markdown",
      "metadata": {
        "id": "view-in-github",
        "colab_type": "text"
      },
      "source": [
        "<a href=\"https://colab.research.google.com/github/1cali/ENG-219-017-2023/blob/main/Exercise_5.ipynb\" target=\"_parent\"><img src=\"https://colab.research.google.com/assets/colab-badge.svg\" alt=\"Open In Colab\"/></a>"
      ]
    },
    {
      "cell_type": "code",
      "execution_count": 9,
      "metadata": {
        "id": "8TtT14NsItfv"
      },
      "outputs": [],
      "source": [
        "menu = ['stewed meat with onions',  'risotto with trout and shrimp',\n",
        "       'fish soup with cream and onion', 'gyro','roasted beet salad']"
      ]
    },
    {
      "cell_type": "code",
      "source": [
        "# Given list of customers each day for the last month\n",
        "num_customers = [137, 147, 135, 128, 170, 174, 156, 146, 126, 159,\n",
        "                 141, 148, 132, 147, 168, 153, 172, 161, 154, 152,\n",
        "                 141, 151, 131, 149, 164, 163, 143, 143, 166, 171]\n",
        "\n",
        "\n",
        "avg_first_seven = sum(num_customers[:7]) / 7\n",
        "avg_last_seven = sum(num_customers[-7:]) / 7\n",
        "max_month = max(num_customers)\n",
        "min_month = min(num_customers)\n",
        "print(\"Average first seven days:\", avg_first_seven)\n",
        "print(\"Average last seven days:\", avg_last_seven)\n",
        "print(\"Maximum customers in a day:\", max_month)\n",
        "print(\"Minimum customers in a day:\", min_month)\n"
      ],
      "metadata": {
        "colab": {
          "base_uri": "https://localhost:8080/"
        },
        "id": "dqm8aFFoJ29P",
        "outputId": "2ba18c56-3054-40d0-a8c5-18cad9af9122"
      },
      "execution_count": 11,
      "outputs": [
        {
          "output_type": "stream",
          "name": "stdout",
          "text": [
            "Average first seven days: 149.57142857142858\n",
            "Average last seven days: 157.0\n",
            "Maximum customers in a day: 174\n",
            "Minimum customers in a day: 126\n"
          ]
        }
      ]
    },
    {
      "cell_type": "code",
      "source": [
        "alphabet = \"A,B,C,D,E,F,G,H,I,J,K,L,M,N,O,P,Q,R,S,T,U,V,W,X,Y,Z\"\n",
        "address = \"Mr. H. Potter,The cupboard under the Stairs,4 Privet Drive,Little Whinging,Surrey\"\n",
        "letters = alphabet.split(\",\")\n",
        "formatted_address = address.split(\",\")\n",
        "print(\"Letters:\", letters)\n",
        "print(\"Formatted Address:\", formatted_address)"
      ],
      "metadata": {
        "colab": {
          "base_uri": "https://localhost:8080/"
        },
        "id": "p8g3MHf_KxhM",
        "outputId": "dbc8dc67-34a4-4aef-a3cb-43bf0c7af4b1"
      },
      "execution_count": 13,
      "outputs": [
        {
          "output_type": "stream",
          "name": "stdout",
          "text": [
            "Letters: ['A', 'B', 'C', 'D', 'E', 'F', 'G', 'H', 'I', 'J', 'K', 'L', 'M', 'N', 'O', 'P', 'Q', 'R', 'S', 'T', 'U', 'V', 'W', 'X', 'Y', 'Z']\n",
            "Formatted Address: ['Mr. H. Potter', 'The cupboard under the Stairs', '4 Privet Drive', 'Little Whinging', 'Surrey']\n"
          ]
        }
      ]
    },
    {
      "cell_type": "code",
      "source": [],
      "metadata": {
        "id": "O8QxwTKIMrdH"
      },
      "execution_count": null,
      "outputs": []
    }
  ]
}