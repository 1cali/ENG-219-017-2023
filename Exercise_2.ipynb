{
  "nbformat": 4,
  "nbformat_minor": 0,
  "metadata": {
    "colab": {
      "provenance": [],
      "authorship_tag": "ABX9TyP8ZxtOuKa0hrniMLmXwA1/",
      "include_colab_link": true
    },
    "kernelspec": {
      "name": "python3",
      "display_name": "Python 3"
    },
    "language_info": {
      "name": "python"
    }
  },
  "cells": [
    {
      "cell_type": "markdown",
      "metadata": {
        "id": "view-in-github",
        "colab_type": "text"
      },
      "source": [
        "<a href=\"https://colab.research.google.com/github/1cali/Python-exercise-1/blob/main/Exercise_2.ipynb\" target=\"_parent\"><img src=\"https://colab.research.google.com/assets/colab-badge.svg\" alt=\"Open In Colab\"/></a>"
      ]
    },
    {
      "cell_type": "code",
      "execution_count": 2,
      "metadata": {
        "colab": {
          "base_uri": "https://localhost:8080/",
          "height": 0
        },
        "id": "3QgxbidjqHjP",
        "outputId": "74f47c25-7d6b-4639-f0c0-400d60bd2e80"
      },
      "outputs": [
        {
          "output_type": "stream",
          "name": "stdout",
          "text": [
            "120000\n",
            "150000\n"
          ]
        }
      ],
      "source": [
        "\n",
        "\n",
        "def get_expected_cost(beds, baths):\n",
        "    base_cost = 80000\n",
        "    cost = base_cost + (beds * 30000) + (baths * 10000)\n",
        "    return cost\n",
        "\n",
        "print(get_expected_cost(1, 1))\n",
        "print(get_expected_cost(2, 1))"
      ]
    },
    {
      "cell_type": "code",
      "source": [
        "option_one = get_expected_cost(2, 3)\n",
        "option_two = get_expected_cost(3, 2)\n",
        "option_three = get_expected_cost(3, 3)\n",
        "option_four = get_expected_cost(3, 4)\n",
        "print(option_one)\n",
        "print(option_two)\n",
        "print(option_three)\n",
        "print(option_four)"
      ],
      "metadata": {
        "colab": {
          "base_uri": "https://localhost:8080/"
        },
        "id": "QLRs3-ZwsIVI",
        "outputId": "c2767d31-9661-4548-b9af-5db80b9be38f"
      },
      "execution_count": 7,
      "outputs": [
        {
          "output_type": "stream",
          "name": "stdout",
          "text": [
            "170000\n",
            "190000\n",
            "200000\n",
            "210000\n"
          ]
        }
      ]
    },
    {
      "cell_type": "code",
      "source": [
        "def get_cost(sqft_walls, sqft_ceiling, sqft_per_gallon, cost_per_gallon):\n",
        "    total_sqft = sqft_walls + sqft_ceiling\n",
        "    gallons_needed = total_sqft / sqft_per_gallon\n",
        "    cost = gallons_needed * cost_per_gallon\n",
        "    return cost\n",
        "\n",
        "print(get_cost(432, 144, 400, 15))"
      ],
      "metadata": {
        "colab": {
          "base_uri": "https://localhost:8080/"
        },
        "id": "n4k5NSucuEzz",
        "outputId": "13a464d7-5b44-48e7-ec08-559b921f684b"
      },
      "execution_count": 8,
      "outputs": [
        {
          "output_type": "stream",
          "name": "stdout",
          "text": [
            "21.599999999999998\n"
          ]
        }
      ]
    },
    {
      "cell_type": "code",
      "source": [
        "project_cost = get_cost(432, 144, 400, 15)\n",
        "print(project_cost)"
      ],
      "metadata": {
        "colab": {
          "base_uri": "https://localhost:8080/"
        },
        "id": "hHU3HzzcvQ0S",
        "outputId": "e53f8c83-39c3-4410-93a7-27f504ab47b8"
      },
      "execution_count": 9,
      "outputs": [
        {
          "output_type": "stream",
          "name": "stdout",
          "text": [
            "21.599999999999998\n"
          ]
        }
      ]
    },
    {
      "cell_type": "code",
      "source": [],
      "metadata": {
        "id": "e2pZ_tSuvgqu"
      },
      "execution_count": null,
      "outputs": []
    }
  ]
}