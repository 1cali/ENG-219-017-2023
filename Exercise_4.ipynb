{
  "nbformat": 4,
  "nbformat_minor": 0,
  "metadata": {
    "colab": {
      "provenance": [],
      "authorship_tag": "ABX9TyNWjPgXtVWctMnixW4KRui/",
      "include_colab_link": true
    },
    "kernelspec": {
      "name": "python3",
      "display_name": "Python 3"
    },
    "language_info": {
      "name": "python"
    }
  },
  "cells": [
    {
      "cell_type": "markdown",
      "metadata": {
        "id": "view-in-github",
        "colab_type": "text"
      },
      "source": [
        "<a href=\"https://colab.research.google.com/github/1cali/ENG-219-017-2023/blob/main/Exercise_3.ipynb\" target=\"_parent\"><img src=\"https://colab.research.google.com/assets/colab-badge.svg\" alt=\"Open In Colab\"/></a>"
      ]
    },
    {
      "cell_type": "code",
      "execution_count": null,
      "metadata": {
        "id": "R6gvQfm850Vs"
      },
      "outputs": [],
      "source": [
        "def get_grade(score):\n",
        "    if score >= 90:\n",
        "        return \"A\"\n",
        "    elif score >= 80:\n",
        "        return \"B\"\n",
        "    elif score >= 70:\n",
        "        return \"C\"\n",
        "    elif score >= 60:\n",
        "        return \"D\"\n",
        "    else:\n",
        "        return \"F\"\n",
        "\n"
      ]
    },
    {
      "cell_type": "code",
      "source": [
        "def cost_of_project(engraving, solid_gold):\n",
        "    if solid_gold == True:\n",
        "        cost = 100 + (10 * len(engraving))\n",
        "    else:\n",
        "        cost = 50 + (7 * len(engraving))\n",
        "\n",
        "    return cost"
      ],
      "metadata": {
        "id": "tnaqAPMX__Yd"
      },
      "execution_count": 3,
      "outputs": []
    },
    {
      "cell_type": "code",
      "source": [
        "def get_water_bill(num_gallons):\n",
        "    if num_gallons <= 8000:\n",
        "        cost = (num_gallons / 1000) * 5\n",
        "    elif num_gallons <= 22000:\n",
        "        cost = (num_gallons / 1000) * 6\n",
        "    elif num_gallons <= 30000:\n",
        "        cost = (num_gallons / 1000) * 7\n",
        "    else:\n",
        "        cost = (num_gallons / 1000) * 10\n",
        "    return cost\n"
      ],
      "metadata": {
        "id": "4JACps8DA3fr"
      },
      "execution_count": 5,
      "outputs": []
    },
    {
      "cell_type": "code",
      "source": [
        "def get_phone_bill(gb):\n",
        "    bill = 100\n",
        "    if gb > 15:\n",
        "        extra_gb = gb - 15\n",
        "        bill += extra_gb * 100\n",
        "    return bill"
      ],
      "metadata": {
        "id": "D2kdwUoTBQMO"
      },
      "execution_count": 7,
      "outputs": []
    },
    {
      "cell_type": "code",
      "source": [],
      "metadata": {
        "id": "2iw1bT4BB5JT"
      },
      "execution_count": null,
      "outputs": []
    }
  ]
}
