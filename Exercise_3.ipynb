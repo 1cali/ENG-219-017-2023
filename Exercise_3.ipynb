{
  "nbformat": 4,
  "nbformat_minor": 0,
  "metadata": {
    "colab": {
      "provenance": [],
      "authorship_tag": "ABX9TyNXI5jlFH9e6nlbymVYqTRP",
      "include_colab_link": true
    },
    "kernelspec": {
      "name": "python3",
      "display_name": "Python 3"
    },
    "language_info": {
      "name": "python"
    }
  },
  "cells": [
    {
      "cell_type": "markdown",
      "metadata": {
        "id": "view-in-github",
        "colab_type": "text"
      },
      "source": [
        "<a href=\"https://colab.research.google.com/github/1cali/ENG-219-017-2023/blob/main/Exercise_3.ipynb\" target=\"_parent\"><img src=\"https://colab.research.google.com/assets/colab-badge.svg\" alt=\"Open In Colab\"/></a>"
      ]
    },
    {
      "cell_type": "code",
      "execution_count": 1,
      "metadata": {
        "colab": {
          "base_uri": "https://localhost:8080/"
        },
        "id": "M_1avp_AyJy3",
        "outputId": "4246be01-158d-4d93-ef1d-8fff6ec3aa55"
      },
      "outputs": [
        {
          "output_type": "stream",
          "name": "stdout",
          "text": [
            "1.0\n",
            "<class 'float'>\n",
            "1\n",
            "<class 'int'>\n"
          ]
        }
      ],
      "source": [
        "# Define a float\n",
        "y = 1.\n",
        "print(y)\n",
        "print(type(y))\n",
        "\n",
        "# Convert float to integer with the int function\n",
        "z = int(y)\n",
        "print(z)\n",
        "print(type(z))"
      ]
    },
    {
      "cell_type": "code",
      "source": [
        "# Uncomment and run this code to get started!\n",
        "print(3 * True)\n",
        "print(-3.1 * True)\n",
        "print(type(\"abc\" * False))\n",
        "print(len(\"abc\" * False))"
      ],
      "metadata": {
        "colab": {
          "base_uri": "https://localhost:8080/"
        },
        "id": "FIm9sNhgyj1N",
        "outputId": "3801a798-0328-4270-ab38-45ff1e5d7569"
      },
      "execution_count": 2,
      "outputs": [
        {
          "output_type": "stream",
          "name": "stdout",
          "text": [
            "3\n",
            "-3.1\n",
            "<class 'str'>\n",
            "0\n"
          ]
        }
      ]
    },
    {
      "cell_type": "code",
      "source": [
        "def get_expected_cost(beds, baths, has_basement):\n",
        "    cost = 80000\n",
        "    cost += beds * 30000\n",
        "    cost += baths * 10000\n",
        "\n",
        "    if has_basement:\n",
        "        cost += 40000\n",
        "\n",
        "    return cost"
      ],
      "metadata": {
        "id": "n5CXnOVFy3an"
      },
      "execution_count": 13,
      "outputs": []
    },
    {
      "cell_type": "code",
      "source": [
        "print(False + False)\n",
        "print(True + False)\n",
        "print(False + True)\n",
        "print(True + True)\n",
        "print(False + True + True + True)"
      ],
      "metadata": {
        "colab": {
          "base_uri": "https://localhost:8080/"
        },
        "id": "CZpoYr_L0Bld",
        "outputId": "e7fb1467-d524-4c6a-be6b-c91963f4c3b6"
      },
      "execution_count": 14,
      "outputs": [
        {
          "output_type": "stream",
          "name": "stdout",
          "text": [
            "0\n",
            "1\n",
            "1\n",
            "2\n",
            "3\n"
          ]
        }
      ]
    },
    {
      "cell_type": "code",
      "source": [
        "def cost_of_project(engraving, solid_gold):\n",
        "    if solid_gold:\n",
        "        cost = 100  # Base cost for solid gold ring\n",
        "        cost += len(engraving) * 10  # $10 per engraved unit\n",
        "    else:\n",
        "        cost = 50  # Base cost for gold-plated ring\n",
        "        cost += len(engraving) * 7  # $7 per engraved unit\n",
        "        return cost"
      ],
      "metadata": {
        "id": "S9ec5MJN0SWX"
      },
      "execution_count": 21,
      "outputs": []
    }
  ]
}